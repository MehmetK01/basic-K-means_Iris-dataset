{
 "cells": [
  {
   "cell_type": "code",
   "execution_count": 1,
   "id": "19f914df-bf6e-4d49-82b0-81dcdeb01bc1",
   "metadata": {},
   "outputs": [],
   "source": [
    "import pandas as pd\n",
    "import numpy as np\n",
    "\n",
    "from sklearn.datasets import load_iris\n",
    "\n",
    "import seaborn as sns\n",
    "import matplotlib.pyplot as plt\n",
    "\n",
    "from sklearn.cluster import KMeans\n",
    "\n",
    "#from sklearn.model_selection import train_test_split\n",
    "#from sklearn.preprocessing import StandardScaler, RobustScaler, OneHotEncoder, OrdinalEncoder\n",
    "\n",
    "#from sklearn.pipeline import Pipeline\n",
    "#from sklearn.compose import ColumnTransformer\n",
    "\n",
    "#from sklearn.ensemble import RandomForestClassifier\n",
    "#from sklearn.metrics import accuracy_score, precision_score, recall_score, f1_score"
   ]
  },
  {
   "cell_type": "code",
   "execution_count": 2,
   "id": "e4be9007-5d2c-4a4d-b00a-32d45ce1959f",
   "metadata": {},
   "outputs": [
    {
     "data": {
      "text/html": [
       "<div>\n",
       "<style scoped>\n",
       "    .dataframe tbody tr th:only-of-type {\n",
       "        vertical-align: middle;\n",
       "    }\n",
       "\n",
       "    .dataframe tbody tr th {\n",
       "        vertical-align: top;\n",
       "    }\n",
       "\n",
       "    .dataframe thead th {\n",
       "        text-align: right;\n",
       "    }\n",
       "</style>\n",
       "<table border=\"1\" class=\"dataframe\">\n",
       "  <thead>\n",
       "    <tr style=\"text-align: right;\">\n",
       "      <th></th>\n",
       "      <th>sepal length (cm)</th>\n",
       "      <th>sepal width (cm)</th>\n",
       "      <th>petal length (cm)</th>\n",
       "      <th>petal width (cm)</th>\n",
       "      <th>target</th>\n",
       "    </tr>\n",
       "  </thead>\n",
       "  <tbody>\n",
       "    <tr>\n",
       "      <th>0</th>\n",
       "      <td>5.1</td>\n",
       "      <td>3.5</td>\n",
       "      <td>1.4</td>\n",
       "      <td>0.2</td>\n",
       "      <td>0</td>\n",
       "    </tr>\n",
       "    <tr>\n",
       "      <th>1</th>\n",
       "      <td>4.9</td>\n",
       "      <td>3.0</td>\n",
       "      <td>1.4</td>\n",
       "      <td>0.2</td>\n",
       "      <td>0</td>\n",
       "    </tr>\n",
       "    <tr>\n",
       "      <th>2</th>\n",
       "      <td>4.7</td>\n",
       "      <td>3.2</td>\n",
       "      <td>1.3</td>\n",
       "      <td>0.2</td>\n",
       "      <td>0</td>\n",
       "    </tr>\n",
       "    <tr>\n",
       "      <th>3</th>\n",
       "      <td>4.6</td>\n",
       "      <td>3.1</td>\n",
       "      <td>1.5</td>\n",
       "      <td>0.2</td>\n",
       "      <td>0</td>\n",
       "    </tr>\n",
       "    <tr>\n",
       "      <th>4</th>\n",
       "      <td>5.0</td>\n",
       "      <td>3.6</td>\n",
       "      <td>1.4</td>\n",
       "      <td>0.2</td>\n",
       "      <td>0</td>\n",
       "    </tr>\n",
       "    <tr>\n",
       "      <th>...</th>\n",
       "      <td>...</td>\n",
       "      <td>...</td>\n",
       "      <td>...</td>\n",
       "      <td>...</td>\n",
       "      <td>...</td>\n",
       "    </tr>\n",
       "    <tr>\n",
       "      <th>145</th>\n",
       "      <td>6.7</td>\n",
       "      <td>3.0</td>\n",
       "      <td>5.2</td>\n",
       "      <td>2.3</td>\n",
       "      <td>2</td>\n",
       "    </tr>\n",
       "    <tr>\n",
       "      <th>146</th>\n",
       "      <td>6.3</td>\n",
       "      <td>2.5</td>\n",
       "      <td>5.0</td>\n",
       "      <td>1.9</td>\n",
       "      <td>2</td>\n",
       "    </tr>\n",
       "    <tr>\n",
       "      <th>147</th>\n",
       "      <td>6.5</td>\n",
       "      <td>3.0</td>\n",
       "      <td>5.2</td>\n",
       "      <td>2.0</td>\n",
       "      <td>2</td>\n",
       "    </tr>\n",
       "    <tr>\n",
       "      <th>148</th>\n",
       "      <td>6.2</td>\n",
       "      <td>3.4</td>\n",
       "      <td>5.4</td>\n",
       "      <td>2.3</td>\n",
       "      <td>2</td>\n",
       "    </tr>\n",
       "    <tr>\n",
       "      <th>149</th>\n",
       "      <td>5.9</td>\n",
       "      <td>3.0</td>\n",
       "      <td>5.1</td>\n",
       "      <td>1.8</td>\n",
       "      <td>2</td>\n",
       "    </tr>\n",
       "  </tbody>\n",
       "</table>\n",
       "<p>150 rows × 5 columns</p>\n",
       "</div>"
      ],
      "text/plain": [
       "     sepal length (cm)  sepal width (cm)  petal length (cm)  petal width (cm)  \\\n",
       "0                  5.1               3.5                1.4               0.2   \n",
       "1                  4.9               3.0                1.4               0.2   \n",
       "2                  4.7               3.2                1.3               0.2   \n",
       "3                  4.6               3.1                1.5               0.2   \n",
       "4                  5.0               3.6                1.4               0.2   \n",
       "..                 ...               ...                ...               ...   \n",
       "145                6.7               3.0                5.2               2.3   \n",
       "146                6.3               2.5                5.0               1.9   \n",
       "147                6.5               3.0                5.2               2.0   \n",
       "148                6.2               3.4                5.4               2.3   \n",
       "149                5.9               3.0                5.1               1.8   \n",
       "\n",
       "     target  \n",
       "0         0  \n",
       "1         0  \n",
       "2         0  \n",
       "3         0  \n",
       "4         0  \n",
       "..      ...  \n",
       "145       2  \n",
       "146       2  \n",
       "147       2  \n",
       "148       2  \n",
       "149       2  \n",
       "\n",
       "[150 rows x 5 columns]"
      ]
     },
     "execution_count": 2,
     "metadata": {},
     "output_type": "execute_result"
    }
   ],
   "source": [
    "# Load the iris dataset\n",
    "iris = load_iris()\n",
    "\n",
    "# Convert to a pandas DataFrame for easy manipulation\n",
    "iris_df = pd.DataFrame(data=iris.data, columns=iris.feature_names)\n",
    "iris_df['target'] = iris.target\n",
    "iris_df"
   ]
  },
  {
   "cell_type": "code",
   "execution_count": 3,
   "id": "e61bdb26-1285-4242-a50b-7539d42b9af9",
   "metadata": {},
   "outputs": [
    {
     "data": {
      "text/plain": [
       "array([[3.5, 1.4, 0.2, 0. ],\n",
       "       [3. , 1.4, 0.2, 0. ],\n",
       "       [3.2, 1.3, 0.2, 0. ],\n",
       "       [3.1, 1.5, 0.2, 0. ],\n",
       "       [3.6, 1.4, 0.2, 0. ],\n",
       "       [3.9, 1.7, 0.4, 0. ],\n",
       "       [3.4, 1.4, 0.3, 0. ],\n",
       "       [3.4, 1.5, 0.2, 0. ],\n",
       "       [2.9, 1.4, 0.2, 0. ],\n",
       "       [3.1, 1.5, 0.1, 0. ],\n",
       "       [3.7, 1.5, 0.2, 0. ],\n",
       "       [3.4, 1.6, 0.2, 0. ],\n",
       "       [3. , 1.4, 0.1, 0. ],\n",
       "       [3. , 1.1, 0.1, 0. ],\n",
       "       [4. , 1.2, 0.2, 0. ],\n",
       "       [4.4, 1.5, 0.4, 0. ],\n",
       "       [3.9, 1.3, 0.4, 0. ],\n",
       "       [3.5, 1.4, 0.3, 0. ],\n",
       "       [3.8, 1.7, 0.3, 0. ],\n",
       "       [3.8, 1.5, 0.3, 0. ],\n",
       "       [3.4, 1.7, 0.2, 0. ],\n",
       "       [3.7, 1.5, 0.4, 0. ],\n",
       "       [3.6, 1. , 0.2, 0. ],\n",
       "       [3.3, 1.7, 0.5, 0. ],\n",
       "       [3.4, 1.9, 0.2, 0. ],\n",
       "       [3. , 1.6, 0.2, 0. ],\n",
       "       [3.4, 1.6, 0.4, 0. ],\n",
       "       [3.5, 1.5, 0.2, 0. ],\n",
       "       [3.4, 1.4, 0.2, 0. ],\n",
       "       [3.2, 1.6, 0.2, 0. ],\n",
       "       [3.1, 1.6, 0.2, 0. ],\n",
       "       [3.4, 1.5, 0.4, 0. ],\n",
       "       [4.1, 1.5, 0.1, 0. ],\n",
       "       [4.2, 1.4, 0.2, 0. ],\n",
       "       [3.1, 1.5, 0.2, 0. ],\n",
       "       [3.2, 1.2, 0.2, 0. ],\n",
       "       [3.5, 1.3, 0.2, 0. ],\n",
       "       [3.6, 1.4, 0.1, 0. ],\n",
       "       [3. , 1.3, 0.2, 0. ],\n",
       "       [3.4, 1.5, 0.2, 0. ],\n",
       "       [3.5, 1.3, 0.3, 0. ],\n",
       "       [2.3, 1.3, 0.3, 0. ],\n",
       "       [3.2, 1.3, 0.2, 0. ],\n",
       "       [3.5, 1.6, 0.6, 0. ],\n",
       "       [3.8, 1.9, 0.4, 0. ],\n",
       "       [3. , 1.4, 0.3, 0. ],\n",
       "       [3.8, 1.6, 0.2, 0. ],\n",
       "       [3.2, 1.4, 0.2, 0. ],\n",
       "       [3.7, 1.5, 0.2, 0. ],\n",
       "       [3.3, 1.4, 0.2, 0. ],\n",
       "       [3.2, 4.7, 1.4, 1. ],\n",
       "       [3.2, 4.5, 1.5, 1. ],\n",
       "       [3.1, 4.9, 1.5, 1. ],\n",
       "       [2.3, 4. , 1.3, 1. ],\n",
       "       [2.8, 4.6, 1.5, 1. ],\n",
       "       [2.8, 4.5, 1.3, 1. ],\n",
       "       [3.3, 4.7, 1.6, 1. ],\n",
       "       [2.4, 3.3, 1. , 1. ],\n",
       "       [2.9, 4.6, 1.3, 1. ],\n",
       "       [2.7, 3.9, 1.4, 1. ],\n",
       "       [2. , 3.5, 1. , 1. ],\n",
       "       [3. , 4.2, 1.5, 1. ],\n",
       "       [2.2, 4. , 1. , 1. ],\n",
       "       [2.9, 4.7, 1.4, 1. ],\n",
       "       [2.9, 3.6, 1.3, 1. ],\n",
       "       [3.1, 4.4, 1.4, 1. ],\n",
       "       [3. , 4.5, 1.5, 1. ],\n",
       "       [2.7, 4.1, 1. , 1. ],\n",
       "       [2.2, 4.5, 1.5, 1. ],\n",
       "       [2.5, 3.9, 1.1, 1. ],\n",
       "       [3.2, 4.8, 1.8, 1. ],\n",
       "       [2.8, 4. , 1.3, 1. ],\n",
       "       [2.5, 4.9, 1.5, 1. ],\n",
       "       [2.8, 4.7, 1.2, 1. ],\n",
       "       [2.9, 4.3, 1.3, 1. ],\n",
       "       [3. , 4.4, 1.4, 1. ],\n",
       "       [2.8, 4.8, 1.4, 1. ],\n",
       "       [3. , 5. , 1.7, 1. ],\n",
       "       [2.9, 4.5, 1.5, 1. ],\n",
       "       [2.6, 3.5, 1. , 1. ],\n",
       "       [2.4, 3.8, 1.1, 1. ],\n",
       "       [2.4, 3.7, 1. , 1. ],\n",
       "       [2.7, 3.9, 1.2, 1. ],\n",
       "       [2.7, 5.1, 1.6, 1. ],\n",
       "       [3. , 4.5, 1.5, 1. ],\n",
       "       [3.4, 4.5, 1.6, 1. ],\n",
       "       [3.1, 4.7, 1.5, 1. ],\n",
       "       [2.3, 4.4, 1.3, 1. ],\n",
       "       [3. , 4.1, 1.3, 1. ],\n",
       "       [2.5, 4. , 1.3, 1. ],\n",
       "       [2.6, 4.4, 1.2, 1. ],\n",
       "       [3. , 4.6, 1.4, 1. ],\n",
       "       [2.6, 4. , 1.2, 1. ],\n",
       "       [2.3, 3.3, 1. , 1. ],\n",
       "       [2.7, 4.2, 1.3, 1. ],\n",
       "       [3. , 4.2, 1.2, 1. ],\n",
       "       [2.9, 4.2, 1.3, 1. ],\n",
       "       [2.9, 4.3, 1.3, 1. ],\n",
       "       [2.5, 3. , 1.1, 1. ],\n",
       "       [2.8, 4.1, 1.3, 1. ],\n",
       "       [3.3, 6. , 2.5, 2. ],\n",
       "       [2.7, 5.1, 1.9, 2. ],\n",
       "       [3. , 5.9, 2.1, 2. ],\n",
       "       [2.9, 5.6, 1.8, 2. ],\n",
       "       [3. , 5.8, 2.2, 2. ],\n",
       "       [3. , 6.6, 2.1, 2. ],\n",
       "       [2.5, 4.5, 1.7, 2. ],\n",
       "       [2.9, 6.3, 1.8, 2. ],\n",
       "       [2.5, 5.8, 1.8, 2. ],\n",
       "       [3.6, 6.1, 2.5, 2. ],\n",
       "       [3.2, 5.1, 2. , 2. ],\n",
       "       [2.7, 5.3, 1.9, 2. ],\n",
       "       [3. , 5.5, 2.1, 2. ],\n",
       "       [2.5, 5. , 2. , 2. ],\n",
       "       [2.8, 5.1, 2.4, 2. ],\n",
       "       [3.2, 5.3, 2.3, 2. ],\n",
       "       [3. , 5.5, 1.8, 2. ],\n",
       "       [3.8, 6.7, 2.2, 2. ],\n",
       "       [2.6, 6.9, 2.3, 2. ],\n",
       "       [2.2, 5. , 1.5, 2. ],\n",
       "       [3.2, 5.7, 2.3, 2. ],\n",
       "       [2.8, 4.9, 2. , 2. ],\n",
       "       [2.8, 6.7, 2. , 2. ],\n",
       "       [2.7, 4.9, 1.8, 2. ],\n",
       "       [3.3, 5.7, 2.1, 2. ],\n",
       "       [3.2, 6. , 1.8, 2. ],\n",
       "       [2.8, 4.8, 1.8, 2. ],\n",
       "       [3. , 4.9, 1.8, 2. ],\n",
       "       [2.8, 5.6, 2.1, 2. ],\n",
       "       [3. , 5.8, 1.6, 2. ],\n",
       "       [2.8, 6.1, 1.9, 2. ],\n",
       "       [3.8, 6.4, 2. , 2. ],\n",
       "       [2.8, 5.6, 2.2, 2. ],\n",
       "       [2.8, 5.1, 1.5, 2. ],\n",
       "       [2.6, 5.6, 1.4, 2. ],\n",
       "       [3. , 6.1, 2.3, 2. ],\n",
       "       [3.4, 5.6, 2.4, 2. ],\n",
       "       [3.1, 5.5, 1.8, 2. ],\n",
       "       [3. , 4.8, 1.8, 2. ],\n",
       "       [3.1, 5.4, 2.1, 2. ],\n",
       "       [3.1, 5.6, 2.4, 2. ],\n",
       "       [3.1, 5.1, 2.3, 2. ],\n",
       "       [2.7, 5.1, 1.9, 2. ],\n",
       "       [3.2, 5.9, 2.3, 2. ],\n",
       "       [3.3, 5.7, 2.5, 2. ],\n",
       "       [3. , 5.2, 2.3, 2. ],\n",
       "       [2.5, 5. , 1.9, 2. ],\n",
       "       [3. , 5.2, 2. , 2. ],\n",
       "       [3.4, 5.4, 2.3, 2. ],\n",
       "       [3. , 5.1, 1.8, 2. ]])"
      ]
     },
     "execution_count": 3,
     "metadata": {},
     "output_type": "execute_result"
    }
   ],
   "source": [
    "X = iris_df.iloc[:,[1,2,3,4]].values\n",
    "X"
   ]
  },
  {
   "cell_type": "markdown",
   "id": "6f98683f-4c02-468d-a0a7-3b0f19edfb36",
   "metadata": {},
   "source": [
    "### applying elbow method to find the optimal number of clusters"
   ]
  },
  {
   "cell_type": "code",
   "execution_count": 4,
   "id": "8c37708b-162f-43d8-9ba7-f1d10acb0861",
   "metadata": {},
   "outputs": [
    {
     "data": {
      "image/png": "[encoded data removed]",
      "text/plain": [
       "<Figure size 432x288 with 1 Axes>"
      ]
     },
     "metadata": {
      "needs_background": "light"
     },
     "output_type": "display_data"
    }
   ],
   "source": [
    "wcss = []\n",
    "for i in range(1,11):\n",
    "    kmeans = KMeans(n_clusters = i, init = 'k-means++', max_iter = 300, n_init = 10, random_state = 0)\n",
    "    kmeans.fit(X)\n",
    "    wcss.append(kmeans.inertia_)\n",
    "plt.plot(range(1,11), wcss)\n",
    "plt.title('The Elbow Method')\n",
    "plt.xlabel('Number of clusters')\n",
    "plt.ylabel('WCSS')\n",
    "plt.show()"
   ]
  },
  {
   "cell_type": "code",
   "execution_count": 5,
   "id": "67a60b1b-e3fd-4936-9fb0-cfcae3ade78a",
   "metadata": {},
   "outputs": [],
   "source": [
    "#applying kmeans to the dataset with value of k=3 in this case\n",
    "kmeans = KMeans(n_clusters = 3, init = 'k-means++', max_iter = 300, n_init = 10, random_state = 0)\n",
    "y_kmeans = kmeans.fit_predict(X)"
   ]
  },
  {
   "cell_type": "code",
   "execution_count": 6,
   "id": "58489aa8-da86-49e8-81ab-e8073ca9c1e3",
   "metadata": {},
   "outputs": [
    {
     "data": {
      "text/plain": [
       "array([0, 0, 0, 0, 0, 0, 0, 0, 0, 0, 0, 0, 0, 0, 0, 0, 0, 0, 0, 0, 0, 0,\n",
       "       0, 0, 0, 0, 0, 0, 0, 0, 0, 0, 0, 0, 0, 0, 0, 0, 0, 0, 0, 0, 0, 0,\n",
       "       0, 0, 0, 0, 0, 0, 2, 2, 2, 2, 2, 2, 2, 2, 2, 2, 2, 2, 2, 2, 2, 2,\n",
       "       2, 2, 2, 2, 2, 2, 2, 2, 2, 2, 2, 2, 2, 2, 2, 2, 2, 2, 2, 2, 2, 2,\n",
       "       2, 2, 2, 2, 2, 2, 2, 2, 2, 2, 2, 2, 1, 1, 1, 1, 1, 1, 2, 1, 1, 1,\n",
       "       1, 1, 1, 1, 1, 1, 1, 1, 1, 1, 1, 1, 1, 1, 1, 1, 1, 1, 1, 1, 1, 1,\n",
       "       1, 1, 1, 1, 1, 1, 1, 1, 1, 1, 1, 1, 1, 1, 1, 1, 1, 1], dtype=int32)"
      ]
     },
     "execution_count": 6,
     "metadata": {},
     "output_type": "execute_result"
    }
   ],
   "source": [
    "y_kmeans"
   ]
  },
  {
   "cell_type": "code",
   "execution_count": 7,
   "id": "541cbf4f-0292-4a71-8f79-6c6667ad2c40",
   "metadata": {},
   "outputs": [
    {
     "data": {
      "image/png": "[encoded data removed]",
      "text/plain": [
       "<Figure size 432x288 with 1 Axes>"
      ]
     },
     "metadata": {
      "needs_background": "light"
     },
     "output_type": "display_data"
    }
   ],
   "source": [
    "#visualising the clusters wrt sepals\n",
    "plt.scatter(X[y_kmeans == 0, 0], X[y_kmeans == 0, 1], s = 30, c = 'red', label = 'Iris-virginica')\n",
    "plt.scatter(X[y_kmeans == 1, 0], X[y_kmeans == 1, 1], s = 30, c = 'blue', label = 'Iris-setosa')\n",
    "plt.scatter(X[y_kmeans == 2, 0], X[y_kmeans == 2, 1], s = 30, c = 'green', label = 'Iris-versicolor')\n",
    "plt.scatter(kmeans.cluster_centers_[:, 0], kmeans.cluster_centers_[:, 1], s = 70, c = 'yellow', label = 'Centroid')\n",
    "plt.title('Clusters of Species')\n",
    "plt.xlabel('Sepal Length in cm')\n",
    "plt.ylabel('Sepal Width in cm')\n",
    "plt.legend()\n",
    "plt.show()"
   ]
  },
  {
   "cell_type": "code",
   "execution_count": 8,
   "id": "bac49b6e-8ab5-4dd0-b2db-443af6da5e56",
   "metadata": {},
   "outputs": [
    {
     "data": {
      "image/png": "[encoded data removed]",
      "text/plain": [
       "<Figure size 432x288 with 1 Axes>"
      ]
     },
     "metadata": {
      "needs_background": "light"
     },
     "output_type": "display_data"
    }
   ],
   "source": [
    "#visualising the clusters wrt petals\n",
    "plt.scatter(X[y_kmeans == 0, 2], X[y_kmeans == 0, 3], s = 30, c = 'red', label = 'Iris-virginica')\n",
    "plt.scatter(X[y_kmeans == 1, 2], X[y_kmeans == 1, 3], s = 30, c = 'blue', label = 'Iris-setosa')\n",
    "plt.scatter(X[y_kmeans == 2, 2], X[y_kmeans == 2, 3], s = 30, c = 'green', label = 'Iris-versicolor')\n",
    "plt.scatter(kmeans.cluster_centers_[:, 2], kmeans.cluster_centers_[:, 3], s = 70, c = 'yellow', label = 'Centroid')\n",
    "plt.title('Clusters of Species')\n",
    "plt.xlabel('Petal Length in cm')\n",
    "plt.ylabel('Petal Width in cm')\n",
    "plt.legend()\n",
    "plt.show()"
   ]
  },
  {
   "cell_type": "code",
   "execution_count": null,
   "id": "70fec6e6-c3cf-4c78-b686-711204a4c1e2",
   "metadata": {},
   "outputs": [],
   "source": []
  },
  {
   "cell_type": "markdown",
   "id": "b4ab6555-763b-453b-b13e-87694292b631",
   "metadata": {},
   "source": [
    "### K-Means using 3 lusters directly since we know there are 3 clusters in total"
   ]
  },
  {
   "cell_type": "code",
   "execution_count": 9,
   "id": "a5f0d547-8ef8-4cfc-a336-5258cd4dbfeb",
   "metadata": {},
   "outputs": [
    {
     "data": {
      "image/png": "[encoded data removed]",
      "text/plain": [
       "<Figure size 720x432 with 1 Axes>"
      ]
     },
     "metadata": {
      "needs_background": "light"
     },
     "output_type": "display_data"
    },
    {
     "name": "stdout",
     "output_type": "stream",
     "text": [
      "Centroids:\n",
      " [[5.9016129  2.7483871  4.39354839 1.43387097]\n",
      " [5.006      3.428      1.462      0.246     ]\n",
      " [6.85       3.07368421 5.74210526 2.07105263]]\n",
      "\n",
      "Cluster Labels:\n",
      " 0    62\n",
      "1    50\n",
      "2    38\n",
      "Name: cluster, dtype: int64\n"
     ]
    }
   ],
   "source": [
    "from sklearn.datasets import load_iris\n",
    "from sklearn.cluster import KMeans\n",
    "import pandas as pd\n",
    "import matplotlib.pyplot as plt\n",
    "import seaborn as sns\n",
    "\n",
    "# Load the iris dataset\n",
    "iris = load_iris()\n",
    "iris_df = pd.DataFrame(data=iris.data, columns=iris.feature_names)\n",
    "\n",
    "# Perform K-means clustering with 3 clusters (since we know there are 3 species)\n",
    "kmeans = KMeans(n_clusters=3, random_state=42)\n",
    "iris_df['cluster'] = kmeans.fit_predict(iris.data)\n",
    "\n",
    "# Map the actual species names to color the clusters correctly\n",
    "iris_df['species'] = iris.target\n",
    "\n",
    "# Plot the clusters\n",
    "plt.figure(figsize=(10, 6))\n",
    "sns.scatterplot(\n",
    "    x=iris_df['sepal length (cm)'], \n",
    "    y=iris_df['sepal width (cm)'], \n",
    "    hue=iris_df['cluster'], \n",
    "    palette='viridis',\n",
    "    style=iris_df['species']\n",
    ")\n",
    "plt.title(\"K-Means Clustering on Iris Dataset\")\n",
    "plt.xlabel(\"Sepal Length (cm)\")\n",
    "plt.ylabel(\"Sepal Width (cm)\")\n",
    "plt.legend(title=\"Cluster\")\n",
    "plt.show()\n",
    "\n",
    "# Print out the centroids and cluster labels\n",
    "print(\"Centroids:\\n\", kmeans.cluster_centers_)\n",
    "print(\"\\nCluster Labels:\\n\", iris_df['cluster'].value_counts())\n"
   ]
  },
  {
   "cell_type": "code",
   "execution_count": null,
   "id": "be53ecd6-5ed2-413e-9490-0fb5e4a81d6a",
   "metadata": {},
   "outputs": [],
   "source": []
  }
 ],
 "metadata": {
  "kernelspec": {
   "display_name": "Python 3 (ipykernel)",
   "language": "python",
   "name": "python3"
  },
  "language_info": {
   "codemirror_mode": {
    "name": "ipython",
    "version": 3
   },
   "file_extension": ".py",
   "mimetype": "text/x-python",
   "name": "python",
   "nbconvert_exporter": "python",
   "pygments_lexer": "ipython3",
   "version": "3.10.5"
  }
 },
 "nbformat": 4,
 "nbformat_minor": 5
}
